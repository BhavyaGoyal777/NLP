{
  "cells": [
    {
      "cell_type": "markdown",
      "metadata": {
        "id": "view-in-github",
        "colab_type": "text"
      },
      "source": [
        "<a href=\"https://colab.research.google.com/github/BhavyaGoyal777/NLP/blob/main/LLMvsHUMANClassification.ipynb\" target=\"_parent\"><img src=\"https://colab.research.google.com/assets/colab-badge.svg\" alt=\"Open In Colab\"/></a>"
      ]
    },
    {
      "cell_type": "code",
      "execution_count": null,
      "id": "39f09833-e327-4f87-af96-bb6a01b73f4f",
      "metadata": {
        "id": "39f09833-e327-4f87-af96-bb6a01b73f4f"
      },
      "outputs": [],
      "source": [
        "import pandas as pd"
      ]
    },
    {
      "cell_type": "code",
      "execution_count": null,
      "id": "de850836-1a4c-4a51-bafc-fce2937ef341",
      "metadata": {
        "id": "de850836-1a4c-4a51-bafc-fce2937ef341",
        "outputId": "e32b7c19-98c7-45ba-d4c1-ed896781f095"
      },
      "outputs": [
        {
          "name": "stdout",
          "output_type": "stream",
          "text": [
            "Requirement already satisfied: kaggle in /system/conda/miniconda3/envs/cloudspace/lib/python3.10/site-packages (1.6.17)\n",
            "Requirement already satisfied: six>=1.10 in /system/conda/miniconda3/envs/cloudspace/lib/python3.10/site-packages (from kaggle) (1.16.0)\n",
            "Requirement already satisfied: certifi>=2023.7.22 in /system/conda/miniconda3/envs/cloudspace/lib/python3.10/site-packages (from kaggle) (2024.8.30)\n",
            "Requirement already satisfied: python-dateutil in /system/conda/miniconda3/envs/cloudspace/lib/python3.10/site-packages (from kaggle) (2.9.0.post0)\n",
            "Requirement already satisfied: requests in /system/conda/miniconda3/envs/cloudspace/lib/python3.10/site-packages (from kaggle) (2.32.3)\n",
            "Requirement already satisfied: tqdm in /system/conda/miniconda3/envs/cloudspace/lib/python3.10/site-packages (from kaggle) (4.66.5)\n",
            "Requirement already satisfied: python-slugify in /system/conda/miniconda3/envs/cloudspace/lib/python3.10/site-packages (from kaggle) (8.0.4)\n",
            "Requirement already satisfied: urllib3 in /system/conda/miniconda3/envs/cloudspace/lib/python3.10/site-packages (from kaggle) (2.2.3)\n",
            "Requirement already satisfied: bleach in /system/conda/miniconda3/envs/cloudspace/lib/python3.10/site-packages (from kaggle) (6.1.0)\n",
            "Requirement already satisfied: webencodings in /system/conda/miniconda3/envs/cloudspace/lib/python3.10/site-packages (from bleach->kaggle) (0.5.1)\n",
            "Requirement already satisfied: text-unidecode>=1.3 in /system/conda/miniconda3/envs/cloudspace/lib/python3.10/site-packages (from python-slugify->kaggle) (1.3)\n",
            "Requirement already satisfied: charset-normalizer<4,>=2 in /system/conda/miniconda3/envs/cloudspace/lib/python3.10/site-packages (from requests->kaggle) (3.3.2)\n",
            "Requirement already satisfied: idna<4,>=2.5 in /system/conda/miniconda3/envs/cloudspace/lib/python3.10/site-packages (from requests->kaggle) (3.10)\n"
          ]
        }
      ],
      "source": [
        "!pip install kaggle"
      ]
    },
    {
      "cell_type": "code",
      "execution_count": null,
      "id": "2104ec50-41a9-4200-8de3-3de4b9f803db",
      "metadata": {
        "id": "2104ec50-41a9-4200-8de3-3de4b9f803db"
      },
      "outputs": [],
      "source": [
        "# !kaggle datasets download -d starblasters8/human-vs-llm-text-corpus"
      ]
    },
    {
      "cell_type": "code",
      "execution_count": null,
      "id": "13f2efc0-6983-4fdf-9555-5e89aba89742",
      "metadata": {
        "id": "13f2efc0-6983-4fdf-9555-5e89aba89742"
      },
      "outputs": [],
      "source": [
        "# !unzip human-vs-llm-text-corpus.zip\n"
      ]
    },
    {
      "cell_type": "code",
      "execution_count": null,
      "id": "674b321f-37f5-40d6-bd4e-2a6c387fe125",
      "metadata": {
        "id": "674b321f-37f5-40d6-bd4e-2a6c387fe125"
      },
      "outputs": [],
      "source": [
        "df=pd.read_csv('data.csv')\n",
        "df1=pd.read_csv('distribution.csv')"
      ]
    },
    {
      "cell_type": "code",
      "execution_count": null,
      "id": "c3a918bd-881b-4f96-b420-7ee8b1f774d0",
      "metadata": {
        "id": "c3a918bd-881b-4f96-b420-7ee8b1f774d0",
        "outputId": "3a0bd5ba-4033-4d40-e60f-7ba5b7017550"
      },
      "outputs": [
        {
          "data": {
            "text/html": [
              "<div>\n",
              "<style scoped>\n",
              "    .dataframe tbody tr th:only-of-type {\n",
              "        vertical-align: middle;\n",
              "    }\n",
              "\n",
              "    .dataframe tbody tr th {\n",
              "        vertical-align: top;\n",
              "    }\n",
              "\n",
              "    .dataframe thead th {\n",
              "        text-align: right;\n",
              "    }\n",
              "</style>\n",
              "<table border=\"1\" class=\"dataframe\">\n",
              "  <thead>\n",
              "    <tr style=\"text-align: right;\">\n",
              "      <th></th>\n",
              "      <th>text</th>\n",
              "      <th>source</th>\n",
              "      <th>prompt_id</th>\n",
              "      <th>text_length</th>\n",
              "      <th>word_count</th>\n",
              "    </tr>\n",
              "  </thead>\n",
              "  <tbody>\n",
              "    <tr>\n",
              "      <th>0</th>\n",
              "      <td>Federal law supersedes state law, and cannabis...</td>\n",
              "      <td>Bloom-7B</td>\n",
              "      <td>0</td>\n",
              "      <td>967</td>\n",
              "      <td>157</td>\n",
              "    </tr>\n",
              "    <tr>\n",
              "      <th>1</th>\n",
              "      <td>Miles feels restless after working all day. He...</td>\n",
              "      <td>Bloom-7B</td>\n",
              "      <td>0</td>\n",
              "      <td>5068</td>\n",
              "      <td>778</td>\n",
              "    </tr>\n",
              "    <tr>\n",
              "      <th>2</th>\n",
              "      <td>So first of I am danish. That means that I fol...</td>\n",
              "      <td>Bloom-7B</td>\n",
              "      <td>0</td>\n",
              "      <td>1602</td>\n",
              "      <td>267</td>\n",
              "    </tr>\n",
              "    <tr>\n",
              "      <th>3</th>\n",
              "      <td>In this paper we present a novel rule-based ap...</td>\n",
              "      <td>Bloom-7B</td>\n",
              "      <td>0</td>\n",
              "      <td>5469</td>\n",
              "      <td>848</td>\n",
              "    </tr>\n",
              "    <tr>\n",
              "      <th>4</th>\n",
              "      <td>Most social progressives, love democracy, and ...</td>\n",
              "      <td>Bloom-7B</td>\n",
              "      <td>0</td>\n",
              "      <td>2379</td>\n",
              "      <td>380</td>\n",
              "    </tr>\n",
              "  </tbody>\n",
              "</table>\n",
              "</div>"
            ],
            "text/plain": [
              "                                                text    source  prompt_id  \\\n",
              "0  Federal law supersedes state law, and cannabis...  Bloom-7B          0   \n",
              "1  Miles feels restless after working all day. He...  Bloom-7B          0   \n",
              "2  So first of I am danish. That means that I fol...  Bloom-7B          0   \n",
              "3  In this paper we present a novel rule-based ap...  Bloom-7B          0   \n",
              "4  Most social progressives, love democracy, and ...  Bloom-7B          0   \n",
              "\n",
              "   text_length  word_count  \n",
              "0          967         157  \n",
              "1         5068         778  \n",
              "2         1602         267  \n",
              "3         5469         848  \n",
              "4         2379         380  "
            ]
          },
          "execution_count": 6,
          "metadata": {},
          "output_type": "execute_result"
        }
      ],
      "source": [
        "df.head()"
      ]
    },
    {
      "cell_type": "code",
      "execution_count": null,
      "id": "6db73e53-f60b-477d-957f-9474b46b8084",
      "metadata": {
        "id": "6db73e53-f60b-477d-957f-9474b46b8084",
        "outputId": "175c7263-c823-4224-de12-cab926371531"
      },
      "outputs": [
        {
          "data": {
            "text/plain": [
              "prompt_id\n",
              "0       598018\n",
              "1        14221\n",
              "2         8251\n",
              "3         7287\n",
              "4         5620\n",
              "         ...  \n",
              "9856         1\n",
              "9870         1\n",
              "9862         1\n",
              "9816         1\n",
              "9838         1\n",
              "Name: count, Length: 9914, dtype: int64"
            ]
          },
          "execution_count": 7,
          "metadata": {},
          "output_type": "execute_result"
        }
      ],
      "source": [
        "df['prompt_id'].value_counts()\n",
        "\n",
        ""
      ]
    },
    {
      "cell_type": "code",
      "execution_count": null,
      "id": "dc475500-413e-491c-a5f7-213a0ff84cec",
      "metadata": {
        "id": "dc475500-413e-491c-a5f7-213a0ff84cec"
      },
      "outputs": [],
      "source": [
        "df=df.drop(['prompt_id','text_length','word_count'],axis=1)"
      ]
    },
    {
      "cell_type": "code",
      "execution_count": null,
      "id": "a7d7b683-bf4a-4bb3-b48b-89e944e4d419",
      "metadata": {
        "id": "a7d7b683-bf4a-4bb3-b48b-89e944e4d419",
        "outputId": "34456a6e-d3df-49c9-9cc5-5172f37e7bf2"
      },
      "outputs": [
        {
          "data": {
            "text/html": [
              "<div>\n",
              "<style scoped>\n",
              "    .dataframe tbody tr th:only-of-type {\n",
              "        vertical-align: middle;\n",
              "    }\n",
              "\n",
              "    .dataframe tbody tr th {\n",
              "        vertical-align: top;\n",
              "    }\n",
              "\n",
              "    .dataframe thead th {\n",
              "        text-align: right;\n",
              "    }\n",
              "</style>\n",
              "<table border=\"1\" class=\"dataframe\">\n",
              "  <thead>\n",
              "    <tr style=\"text-align: right;\">\n",
              "      <th></th>\n",
              "      <th>text</th>\n",
              "      <th>source</th>\n",
              "    </tr>\n",
              "  </thead>\n",
              "  <tbody>\n",
              "    <tr>\n",
              "      <th>0</th>\n",
              "      <td>Federal law supersedes state law, and cannabis...</td>\n",
              "      <td>Bloom-7B</td>\n",
              "    </tr>\n",
              "    <tr>\n",
              "      <th>1</th>\n",
              "      <td>Miles feels restless after working all day. He...</td>\n",
              "      <td>Bloom-7B</td>\n",
              "    </tr>\n",
              "    <tr>\n",
              "      <th>2</th>\n",
              "      <td>So first of I am danish. That means that I fol...</td>\n",
              "      <td>Bloom-7B</td>\n",
              "    </tr>\n",
              "    <tr>\n",
              "      <th>3</th>\n",
              "      <td>In this paper we present a novel rule-based ap...</td>\n",
              "      <td>Bloom-7B</td>\n",
              "    </tr>\n",
              "    <tr>\n",
              "      <th>4</th>\n",
              "      <td>Most social progressives, love democracy, and ...</td>\n",
              "      <td>Bloom-7B</td>\n",
              "    </tr>\n",
              "  </tbody>\n",
              "</table>\n",
              "</div>"
            ],
            "text/plain": [
              "                                                text    source\n",
              "0  Federal law supersedes state law, and cannabis...  Bloom-7B\n",
              "1  Miles feels restless after working all day. He...  Bloom-7B\n",
              "2  So first of I am danish. That means that I fol...  Bloom-7B\n",
              "3  In this paper we present a novel rule-based ap...  Bloom-7B\n",
              "4  Most social progressives, love democracy, and ...  Bloom-7B"
            ]
          },
          "execution_count": 9,
          "metadata": {},
          "output_type": "execute_result"
        }
      ],
      "source": [
        "df.head()"
      ]
    },
    {
      "cell_type": "code",
      "execution_count": null,
      "id": "84344845-35c9-427f-91bd-9ed73379e536",
      "metadata": {
        "id": "84344845-35c9-427f-91bd-9ed73379e536",
        "outputId": "58fa573c-2ede-483d-deec-0ed334c2e34c"
      },
      "outputs": [
        {
          "data": {
            "text/html": [
              "<div>\n",
              "<style scoped>\n",
              "    .dataframe tbody tr th:only-of-type {\n",
              "        vertical-align: middle;\n",
              "    }\n",
              "\n",
              "    .dataframe tbody tr th {\n",
              "        vertical-align: top;\n",
              "    }\n",
              "\n",
              "    .dataframe thead th {\n",
              "        text-align: right;\n",
              "    }\n",
              "</style>\n",
              "<table border=\"1\" class=\"dataframe\">\n",
              "  <thead>\n",
              "    <tr style=\"text-align: right;\">\n",
              "      <th></th>\n",
              "      <th>Source</th>\n",
              "      <th>Number of Samples</th>\n",
              "      <th>Percentage of Total Data</th>\n",
              "      <th>Text Length Sum</th>\n",
              "      <th>Text Length Mean</th>\n",
              "      <th>Text Length Median</th>\n",
              "      <th>Text Length Std</th>\n",
              "      <th>Text Length Max</th>\n",
              "      <th>Text Length Min</th>\n",
              "      <th>Word Count Sum</th>\n",
              "      <th>Word Count Mean</th>\n",
              "      <th>Word Count Median</th>\n",
              "      <th>Word Count Std</th>\n",
              "      <th>Word Count Max</th>\n",
              "      <th>Word Count Min</th>\n",
              "    </tr>\n",
              "  </thead>\n",
              "  <tbody>\n",
              "    <tr>\n",
              "      <th>0</th>\n",
              "      <td>Human</td>\n",
              "      <td>347692</td>\n",
              "      <td>44.0718%</td>\n",
              "      <td>1555649148</td>\n",
              "      <td>4474.216</td>\n",
              "      <td>2288.0</td>\n",
              "      <td>6989.088</td>\n",
              "      <td>890119</td>\n",
              "      <td>110</td>\n",
              "      <td>246977688</td>\n",
              "      <td>710.335</td>\n",
              "      <td>396.0</td>\n",
              "      <td>1003.481</td>\n",
              "      <td>71543</td>\n",
              "      <td>25</td>\n",
              "    </tr>\n",
              "    <tr>\n",
              "      <th>1</th>\n",
              "      <td>GPT-3.5</td>\n",
              "      <td>52346</td>\n",
              "      <td>6.6351%</td>\n",
              "      <td>147829489</td>\n",
              "      <td>2824.084</td>\n",
              "      <td>3290.0</td>\n",
              "      <td>1797.105</td>\n",
              "      <td>23940</td>\n",
              "      <td>116</td>\n",
              "      <td>22633379</td>\n",
              "      <td>432.380</td>\n",
              "      <td>505.0</td>\n",
              "      <td>263.848</td>\n",
              "      <td>3565</td>\n",
              "      <td>25</td>\n",
              "    </tr>\n",
              "    <tr>\n",
              "      <th>2</th>\n",
              "      <td>Text-Davinci-003</td>\n",
              "      <td>22860</td>\n",
              "      <td>2.8976%</td>\n",
              "      <td>21012437</td>\n",
              "      <td>919.179</td>\n",
              "      <td>727.0</td>\n",
              "      <td>590.805</td>\n",
              "      <td>5313</td>\n",
              "      <td>116</td>\n",
              "      <td>3584391</td>\n",
              "      <td>156.798</td>\n",
              "      <td>121.0</td>\n",
              "      <td>98.634</td>\n",
              "      <td>822</td>\n",
              "      <td>25</td>\n",
              "    </tr>\n",
              "    <tr>\n",
              "      <th>3</th>\n",
              "      <td>Text-Davinci-002</td>\n",
              "      <td>21436</td>\n",
              "      <td>2.7171%</td>\n",
              "      <td>19447200</td>\n",
              "      <td>907.221</td>\n",
              "      <td>591.0</td>\n",
              "      <td>947.377</td>\n",
              "      <td>6100</td>\n",
              "      <td>105</td>\n",
              "      <td>3414594</td>\n",
              "      <td>159.292</td>\n",
              "      <td>107.0</td>\n",
              "      <td>160.207</td>\n",
              "      <td>934</td>\n",
              "      <td>25</td>\n",
              "    </tr>\n",
              "    <tr>\n",
              "      <th>4</th>\n",
              "      <td>OPT-1.3B</td>\n",
              "      <td>18467</td>\n",
              "      <td>2.3408%</td>\n",
              "      <td>27468056</td>\n",
              "      <td>1487.413</td>\n",
              "      <td>777.0</td>\n",
              "      <td>1549.101</td>\n",
              "      <td>6521</td>\n",
              "      <td>114</td>\n",
              "      <td>4636050</td>\n",
              "      <td>251.045</td>\n",
              "      <td>133.0</td>\n",
              "      <td>256.684</td>\n",
              "      <td>960</td>\n",
              "      <td>25</td>\n",
              "    </tr>\n",
              "  </tbody>\n",
              "</table>\n",
              "</div>"
            ],
            "text/plain": [
              "             Source  Number of Samples Percentage of Total Data  \\\n",
              "0             Human             347692                 44.0718%   \n",
              "1           GPT-3.5              52346                  6.6351%   \n",
              "2  Text-Davinci-003              22860                  2.8976%   \n",
              "3  Text-Davinci-002              21436                  2.7171%   \n",
              "4          OPT-1.3B              18467                  2.3408%   \n",
              "\n",
              "   Text Length Sum  Text Length Mean  Text Length Median  Text Length Std  \\\n",
              "0       1555649148          4474.216              2288.0         6989.088   \n",
              "1        147829489          2824.084              3290.0         1797.105   \n",
              "2         21012437           919.179               727.0          590.805   \n",
              "3         19447200           907.221               591.0          947.377   \n",
              "4         27468056          1487.413               777.0         1549.101   \n",
              "\n",
              "   Text Length Max  Text Length Min  Word Count Sum  Word Count Mean  \\\n",
              "0           890119              110       246977688          710.335   \n",
              "1            23940              116        22633379          432.380   \n",
              "2             5313              116         3584391          156.798   \n",
              "3             6100              105         3414594          159.292   \n",
              "4             6521              114         4636050          251.045   \n",
              "\n",
              "   Word Count Median  Word Count Std  Word Count Max  Word Count Min  \n",
              "0              396.0        1003.481           71543              25  \n",
              "1              505.0         263.848            3565              25  \n",
              "2              121.0          98.634             822              25  \n",
              "3              107.0         160.207             934              25  \n",
              "4              133.0         256.684             960              25  "
            ]
          },
          "execution_count": 10,
          "metadata": {},
          "output_type": "execute_result"
        }
      ],
      "source": [
        "df1.head()"
      ]
    },
    {
      "cell_type": "code",
      "execution_count": null,
      "id": "79736314-ea91-4d66-802c-105a85766b8b",
      "metadata": {
        "id": "79736314-ea91-4d66-802c-105a85766b8b"
      },
      "outputs": [],
      "source": [
        "df['source'] = df['source'].where(df['source'] == 'Human', 'LLM')"
      ]
    },
    {
      "cell_type": "code",
      "execution_count": null,
      "id": "19088ee2-a1f1-4253-89e4-72fdffd8473b",
      "metadata": {
        "id": "19088ee2-a1f1-4253-89e4-72fdffd8473b",
        "outputId": "24dbbccd-b810-4952-b4d4-54f0e1a96a45"
      },
      "outputs": [
        {
          "data": {
            "text/html": [
              "<div>\n",
              "<style scoped>\n",
              "    .dataframe tbody tr th:only-of-type {\n",
              "        vertical-align: middle;\n",
              "    }\n",
              "\n",
              "    .dataframe tbody tr th {\n",
              "        vertical-align: top;\n",
              "    }\n",
              "\n",
              "    .dataframe thead th {\n",
              "        text-align: right;\n",
              "    }\n",
              "</style>\n",
              "<table border=\"1\" class=\"dataframe\">\n",
              "  <thead>\n",
              "    <tr style=\"text-align: right;\">\n",
              "      <th></th>\n",
              "      <th>text</th>\n",
              "      <th>source</th>\n",
              "    </tr>\n",
              "  </thead>\n",
              "  <tbody>\n",
              "    <tr>\n",
              "      <th>0</th>\n",
              "      <td>Federal law supersedes state law, and cannabis...</td>\n",
              "      <td>LLM</td>\n",
              "    </tr>\n",
              "    <tr>\n",
              "      <th>1</th>\n",
              "      <td>Miles feels restless after working all day. He...</td>\n",
              "      <td>LLM</td>\n",
              "    </tr>\n",
              "    <tr>\n",
              "      <th>2</th>\n",
              "      <td>So first of I am danish. That means that I fol...</td>\n",
              "      <td>LLM</td>\n",
              "    </tr>\n",
              "    <tr>\n",
              "      <th>3</th>\n",
              "      <td>In this paper we present a novel rule-based ap...</td>\n",
              "      <td>LLM</td>\n",
              "    </tr>\n",
              "    <tr>\n",
              "      <th>4</th>\n",
              "      <td>Most social progressives, love democracy, and ...</td>\n",
              "      <td>LLM</td>\n",
              "    </tr>\n",
              "  </tbody>\n",
              "</table>\n",
              "</div>"
            ],
            "text/plain": [
              "                                                text source\n",
              "0  Federal law supersedes state law, and cannabis...    LLM\n",
              "1  Miles feels restless after working all day. He...    LLM\n",
              "2  So first of I am danish. That means that I fol...    LLM\n",
              "3  In this paper we present a novel rule-based ap...    LLM\n",
              "4  Most social progressives, love democracy, and ...    LLM"
            ]
          },
          "execution_count": 12,
          "metadata": {},
          "output_type": "execute_result"
        }
      ],
      "source": [
        "df.head()"
      ]
    },
    {
      "cell_type": "code",
      "execution_count": null,
      "id": "c6037dfc-d396-4633-ac1a-16b3d01fd7ee",
      "metadata": {
        "id": "c6037dfc-d396-4633-ac1a-16b3d01fd7ee"
      },
      "outputs": [],
      "source": [
        "df['words_per_text']=df['text'].str.split().apply(len)"
      ]
    },
    {
      "cell_type": "code",
      "execution_count": null,
      "id": "65e90f0a-1803-4c53-a2b8-ce1e0e4895da",
      "metadata": {
        "id": "65e90f0a-1803-4c53-a2b8-ce1e0e4895da",
        "outputId": "d9fe5765-c1ec-43b6-844d-cee93d5772c8"
      },
      "outputs": [
        {
          "data": {
            "text/html": [
              "<div>\n",
              "<style scoped>\n",
              "    .dataframe tbody tr th:only-of-type {\n",
              "        vertical-align: middle;\n",
              "    }\n",
              "\n",
              "    .dataframe tbody tr th {\n",
              "        vertical-align: top;\n",
              "    }\n",
              "\n",
              "    .dataframe thead th {\n",
              "        text-align: right;\n",
              "    }\n",
              "</style>\n",
              "<table border=\"1\" class=\"dataframe\">\n",
              "  <thead>\n",
              "    <tr style=\"text-align: right;\">\n",
              "      <th></th>\n",
              "      <th>text</th>\n",
              "      <th>source</th>\n",
              "      <th>words_per_text</th>\n",
              "    </tr>\n",
              "  </thead>\n",
              "  <tbody>\n",
              "    <tr>\n",
              "      <th>0</th>\n",
              "      <td>Federal law supersedes state law, and cannabis...</td>\n",
              "      <td>LLM</td>\n",
              "      <td>157</td>\n",
              "    </tr>\n",
              "    <tr>\n",
              "      <th>1</th>\n",
              "      <td>Miles feels restless after working all day. He...</td>\n",
              "      <td>LLM</td>\n",
              "      <td>778</td>\n",
              "    </tr>\n",
              "    <tr>\n",
              "      <th>2</th>\n",
              "      <td>So first of I am danish. That means that I fol...</td>\n",
              "      <td>LLM</td>\n",
              "      <td>267</td>\n",
              "    </tr>\n",
              "    <tr>\n",
              "      <th>3</th>\n",
              "      <td>In this paper we present a novel rule-based ap...</td>\n",
              "      <td>LLM</td>\n",
              "      <td>848</td>\n",
              "    </tr>\n",
              "    <tr>\n",
              "      <th>4</th>\n",
              "      <td>Most social progressives, love democracy, and ...</td>\n",
              "      <td>LLM</td>\n",
              "      <td>380</td>\n",
              "    </tr>\n",
              "  </tbody>\n",
              "</table>\n",
              "</div>"
            ],
            "text/plain": [
              "                                                text source  words_per_text\n",
              "0  Federal law supersedes state law, and cannabis...    LLM             157\n",
              "1  Miles feels restless after working all day. He...    LLM             778\n",
              "2  So first of I am danish. That means that I fol...    LLM             267\n",
              "3  In this paper we present a novel rule-based ap...    LLM             848\n",
              "4  Most social progressives, love democracy, and ...    LLM             380"
            ]
          },
          "execution_count": 14,
          "metadata": {},
          "output_type": "execute_result"
        }
      ],
      "source": [
        "df.head()"
      ]
    },
    {
      "cell_type": "code",
      "execution_count": null,
      "id": "bf4165a3-3d4f-4904-bacd-9d54a304eb8e",
      "metadata": {
        "id": "bf4165a3-3d4f-4904-bacd-9d54a304eb8e"
      },
      "outputs": [],
      "source": [
        "label_1_dataset = df[df['source'] == 'LLM']"
      ]
    },
    {
      "cell_type": "code",
      "execution_count": null,
      "id": "64e1597b-db93-48a3-97ff-aadd54fc6e4d",
      "metadata": {
        "id": "64e1597b-db93-48a3-97ff-aadd54fc6e4d"
      },
      "outputs": [],
      "source": [
        "label_0_dataset = df[df['source'] == 'Human']"
      ]
    },
    {
      "cell_type": "code",
      "execution_count": null,
      "id": "9969ca1b-666c-4ccc-a9dd-a80e6a96c412",
      "metadata": {
        "id": "9969ca1b-666c-4ccc-a9dd-a80e6a96c412",
        "outputId": "b9398a73-c07f-450b-ab4e-9ffc73b417b7"
      },
      "outputs": [
        {
          "data": {
            "text/plain": [
              "(441230, 3)"
            ]
          },
          "execution_count": 18,
          "metadata": {},
          "output_type": "execute_result"
        }
      ],
      "source": [
        "from random import shuffle\n",
        "shuffled_label_1_dataset = label_1_dataset.sample(frac=1, random_state=42)\n",
        "shuffled_label_0_dataset = label_0_dataset.sample(frac=1, random_state=42)\n",
        "shuffled_label_1_dataset.shape"
      ]
    },
    {
      "cell_type": "code",
      "execution_count": null,
      "id": "623ab561-cc72-42a8-a50c-cf3af335b70a",
      "metadata": {
        "id": "623ab561-cc72-42a8-a50c-cf3af335b70a"
      },
      "outputs": [],
      "source": [
        "reduced_label_1 = shuffled_label_1_dataset.sample(n=50000, random_state=42).reset_index(drop=True)\n",
        "reduced_label_0 = shuffled_label_0_dataset.sample(n=50000, random_state=42).reset_index(drop=True)"
      ]
    },
    {
      "cell_type": "code",
      "execution_count": null,
      "id": "ee9ab225-7010-444f-ae50-b6159eee9dce",
      "metadata": {
        "id": "ee9ab225-7010-444f-ae50-b6159eee9dce"
      },
      "outputs": [],
      "source": [
        "df=pd.concat([reduced_label_1,reduced_label_0],axis=0)"
      ]
    },
    {
      "cell_type": "code",
      "execution_count": null,
      "id": "9bea94e8-6627-47a8-965b-6645a181a734",
      "metadata": {
        "id": "9bea94e8-6627-47a8-965b-6645a181a734"
      },
      "outputs": [],
      "source": [
        "df = df.sample(frac=1, random_state=42)"
      ]
    },
    {
      "cell_type": "code",
      "execution_count": null,
      "id": "da4dec1f-5228-4bd7-acc1-6389dc0cbd44",
      "metadata": {
        "id": "da4dec1f-5228-4bd7-acc1-6389dc0cbd44"
      },
      "outputs": [],
      "source": [
        "from transformers import AutoTokenizer, AutoModelForSequenceClassification\n",
        ""
      ]
    },
    {
      "cell_type": "code",
      "execution_count": null,
      "id": "18a34e73-fab6-4ce6-b215-a4ac76e51756",
      "metadata": {
        "id": "18a34e73-fab6-4ce6-b215-a4ac76e51756",
        "outputId": "c1904d37-d920-43b5-a6f3-99be5d9a2fa2"
      },
      "outputs": [
        {
          "name": "stderr",
          "output_type": "stream",
          "text": [
            "/home/zeus/miniconda3/envs/cloudspace/lib/python3.10/site-packages/transformers/tokenization_utils_base.py:1617: FutureWarning: `clean_up_tokenization_spaces` was not set. It will be set to `True` by default. This behavior will be deprecated in transformers v4.45, and will be then set to `False` by default. For more details check this issue: https://github.com/huggingface/transformers/issues/31884\n",
            "  warnings.warn(\n"
          ]
        }
      ],
      "source": [
        "model_name='roberta-base'\n",
        "tokenizer=AutoTokenizer.from_pretrained(model_name)"
      ]
    },
    {
      "cell_type": "code",
      "execution_count": null,
      "id": "7cae48d4-2956-4fef-a8db-edd6c76c0922",
      "metadata": {
        "id": "7cae48d4-2956-4fef-a8db-edd6c76c0922"
      },
      "outputs": [],
      "source": [
        "text=\"I am alex \""
      ]
    },
    {
      "cell_type": "code",
      "execution_count": null,
      "id": "83715ab3-8515-42b2-ba56-065076bba2e5",
      "metadata": {
        "id": "83715ab3-8515-42b2-ba56-065076bba2e5",
        "outputId": "6e89c515-2b7f-4ab5-a5fe-a6410162f4ff"
      },
      "outputs": [
        {
          "data": {
            "text/plain": [
              "{'input_ids': [0, 100, 524, 10, 14726, 1437, 2], 'attention_mask': [1, 1, 1, 1, 1, 1, 1]}"
            ]
          },
          "execution_count": 25,
          "metadata": {},
          "output_type": "execute_result"
        }
      ],
      "source": [
        "tokenizer(text)"
      ]
    },
    {
      "cell_type": "code",
      "execution_count": null,
      "id": "f39d5478-7b2e-40cd-948c-92cd98acca84",
      "metadata": {
        "id": "f39d5478-7b2e-40cd-948c-92cd98acca84"
      },
      "outputs": [],
      "source": [
        "from sklearn.model_selection import train_test_split\n",
        "train,val=train_test_split(df,test_size=0.2,random_state=42)\n",
        "val,test=train_test_split(val,test_size=0.5,random_state=42)"
      ]
    },
    {
      "cell_type": "code",
      "execution_count": null,
      "id": "a0ff2ca7-4947-4696-a2ba-4e0260eeae7b",
      "metadata": {
        "id": "a0ff2ca7-4947-4696-a2ba-4e0260eeae7b",
        "outputId": "204c2030-8864-42ec-ed54-3809c8ca6e8a"
      },
      "outputs": [
        {
          "data": {
            "text/plain": [
              "((80000, 3), (10000, 3), (10000, 3))"
            ]
          },
          "execution_count": 27,
          "metadata": {},
          "output_type": "execute_result"
        }
      ],
      "source": [
        "train.shape,val.shape,test.shape"
      ]
    },
    {
      "cell_type": "code",
      "execution_count": null,
      "id": "c5cfbb98-a852-45f2-81af-4b8f0e9aafc8",
      "metadata": {
        "id": "c5cfbb98-a852-45f2-81af-4b8f0e9aafc8",
        "outputId": "236837bc-6813-491c-83bb-fe5e00df9763"
      },
      "outputs": [
        {
          "data": {
            "text/html": [
              "<div>\n",
              "<style scoped>\n",
              "    .dataframe tbody tr th:only-of-type {\n",
              "        vertical-align: middle;\n",
              "    }\n",
              "\n",
              "    .dataframe tbody tr th {\n",
              "        vertical-align: top;\n",
              "    }\n",
              "\n",
              "    .dataframe thead th {\n",
              "        text-align: right;\n",
              "    }\n",
              "</style>\n",
              "<table border=\"1\" class=\"dataframe\">\n",
              "  <thead>\n",
              "    <tr style=\"text-align: right;\">\n",
              "      <th></th>\n",
              "      <th>text</th>\n",
              "      <th>source</th>\n",
              "      <th>words_per_text</th>\n",
              "    </tr>\n",
              "  </thead>\n",
              "  <tbody>\n",
              "    <tr>\n",
              "      <th>25721</th>\n",
              "      <td>It's called Taylor Ham, otherwise known as Por...</td>\n",
              "      <td>Human</td>\n",
              "      <td>570</td>\n",
              "    </tr>\n",
              "    <tr>\n",
              "      <th>30184</th>\n",
              "      <td>\"Why does this computer not work?\" asked my co...</td>\n",
              "      <td>Human</td>\n",
              "      <td>1030</td>\n",
              "    </tr>\n",
              "    <tr>\n",
              "      <th>19864</th>\n",
              "      <td>Richard Wright's \"Native Son\" and Toni Morriso...</td>\n",
              "      <td>LLM</td>\n",
              "      <td>529</td>\n",
              "    </tr>\n",
              "    <tr>\n",
              "      <th>26699</th>\n",
              "      <td>Bullying on Social Media Platforms Essay\\n\\nTa...</td>\n",
              "      <td>Human</td>\n",
              "      <td>1544</td>\n",
              "    </tr>\n",
              "    <tr>\n",
              "      <th>42991</th>\n",
              "      <td>Punishable Omissions in the Criminal Law Essay...</td>\n",
              "      <td>Human</td>\n",
              "      <td>678</td>\n",
              "    </tr>\n",
              "  </tbody>\n",
              "</table>\n",
              "</div>"
            ],
            "text/plain": [
              "                                                    text source  \\\n",
              "25721  It's called Taylor Ham, otherwise known as Por...  Human   \n",
              "30184  \"Why does this computer not work?\" asked my co...  Human   \n",
              "19864  Richard Wright's \"Native Son\" and Toni Morriso...    LLM   \n",
              "26699  Bullying on Social Media Platforms Essay\\n\\nTa...  Human   \n",
              "42991  Punishable Omissions in the Criminal Law Essay...  Human   \n",
              "\n",
              "       words_per_text  \n",
              "25721             570  \n",
              "30184            1030  \n",
              "19864             529  \n",
              "26699            1544  \n",
              "42991             678  "
            ]
          },
          "execution_count": 28,
          "metadata": {},
          "output_type": "execute_result"
        }
      ],
      "source": [
        "df.head()"
      ]
    },
    {
      "cell_type": "code",
      "execution_count": null,
      "id": "d3ded9cd-6d7b-4a96-83f9-071945cbde90",
      "metadata": {
        "id": "d3ded9cd-6d7b-4a96-83f9-071945cbde90"
      },
      "outputs": [],
      "source": [
        "# Define the function to add a label column\n",
        "def add_label_column(df, class_column):\n",
        "    # Mapping dictionary for class labels to numeric labels\n",
        "    label_mapping = {\n",
        "        'Human': 0,\n",
        "        'LLM': 1,\n",
        "\n",
        "    }\n",
        "\n",
        "    # Add a new column 'label' based on the mapping\n",
        "    df['label'] = df[class_column].map(label_mapping)\n",
        "\n",
        "    return df\n",
        ""
      ]
    },
    {
      "cell_type": "code",
      "execution_count": null,
      "id": "18353f42-756a-4043-8ddd-f49642ae60fa",
      "metadata": {
        "id": "18353f42-756a-4043-8ddd-f49642ae60fa",
        "outputId": "e095ad9b-7bc5-4c1a-db3a-7f8ded5b1d51"
      },
      "outputs": [
        {
          "data": {
            "text/html": [
              "<div>\n",
              "<style scoped>\n",
              "    .dataframe tbody tr th:only-of-type {\n",
              "        vertical-align: middle;\n",
              "    }\n",
              "\n",
              "    .dataframe tbody tr th {\n",
              "        vertical-align: top;\n",
              "    }\n",
              "\n",
              "    .dataframe thead th {\n",
              "        text-align: right;\n",
              "    }\n",
              "</style>\n",
              "<table border=\"1\" class=\"dataframe\">\n",
              "  <thead>\n",
              "    <tr style=\"text-align: right;\">\n",
              "      <th></th>\n",
              "      <th>text</th>\n",
              "      <th>source</th>\n",
              "      <th>words_per_text</th>\n",
              "      <th>label</th>\n",
              "    </tr>\n",
              "  </thead>\n",
              "  <tbody>\n",
              "    <tr>\n",
              "      <th>20175</th>\n",
              "      <td>The PRI is set to win about 30, with the conse...</td>\n",
              "      <td>LLM</td>\n",
              "      <td>666</td>\n",
              "      <td>1</td>\n",
              "    </tr>\n",
              "    <tr>\n",
              "      <th>23647</th>\n",
              "      <td>Essay: Okay, I have to admit that this sounds ...</td>\n",
              "      <td>Human</td>\n",
              "      <td>279</td>\n",
              "      <td>0</td>\n",
              "    </tr>\n",
              "    <tr>\n",
              "      <th>30464</th>\n",
              "      <td>Online Discussion and Violence Program Evaluat...</td>\n",
              "      <td>Human</td>\n",
              "      <td>667</td>\n",
              "      <td>0</td>\n",
              "    </tr>\n",
              "    <tr>\n",
              "      <th>49858</th>\n",
              "      <td>Criminal justice Essay\\n\\nTable of Contents\\n ...</td>\n",
              "      <td>Human</td>\n",
              "      <td>2603</td>\n",
              "      <td>0</td>\n",
              "    </tr>\n",
              "    <tr>\n",
              "      <th>2825</th>\n",
              "      <td>Dear Senator  \\n\\nThank you for taking the tim...</td>\n",
              "      <td>LLM</td>\n",
              "      <td>201</td>\n",
              "      <td>1</td>\n",
              "    </tr>\n",
              "    <tr>\n",
              "      <th>...</th>\n",
              "      <td>...</td>\n",
              "      <td>...</td>\n",
              "      <td>...</td>\n",
              "      <td>...</td>\n",
              "    </tr>\n",
              "    <tr>\n",
              "      <th>46743</th>\n",
              "      <td>These years included what was called \"spectacu...</td>\n",
              "      <td>Human</td>\n",
              "      <td>111</td>\n",
              "      <td>0</td>\n",
              "    </tr>\n",
              "    <tr>\n",
              "      <th>29853</th>\n",
              "      <td>Software developers have discovered references...</td>\n",
              "      <td>LLM</td>\n",
              "      <td>53</td>\n",
              "      <td>1</td>\n",
              "    </tr>\n",
              "    <tr>\n",
              "      <th>23620</th>\n",
              "      <td>Saudi Aramco Company’s Engineering Innovation ...</td>\n",
              "      <td>Human</td>\n",
              "      <td>4059</td>\n",
              "      <td>0</td>\n",
              "    </tr>\n",
              "    <tr>\n",
              "      <th>31440</th>\n",
              "      <td>Social media has become an integral part of th...</td>\n",
              "      <td>LLM</td>\n",
              "      <td>596</td>\n",
              "      <td>1</td>\n",
              "    </tr>\n",
              "    <tr>\n",
              "      <th>10856</th>\n",
              "      <td>The Face on Mars: A Natural Phenomena?\\n\\nIn 1...</td>\n",
              "      <td>LLM</td>\n",
              "      <td>662</td>\n",
              "      <td>1</td>\n",
              "    </tr>\n",
              "  </tbody>\n",
              "</table>\n",
              "<p>10000 rows × 4 columns</p>\n",
              "</div>"
            ],
            "text/plain": [
              "                                                    text source  \\\n",
              "20175  The PRI is set to win about 30, with the conse...    LLM   \n",
              "23647  Essay: Okay, I have to admit that this sounds ...  Human   \n",
              "30464  Online Discussion and Violence Program Evaluat...  Human   \n",
              "49858  Criminal justice Essay\\n\\nTable of Contents\\n ...  Human   \n",
              "2825   Dear Senator  \\n\\nThank you for taking the tim...    LLM   \n",
              "...                                                  ...    ...   \n",
              "46743  These years included what was called \"spectacu...  Human   \n",
              "29853  Software developers have discovered references...    LLM   \n",
              "23620  Saudi Aramco Company’s Engineering Innovation ...  Human   \n",
              "31440  Social media has become an integral part of th...    LLM   \n",
              "10856  The Face on Mars: A Natural Phenomena?\\n\\nIn 1...    LLM   \n",
              "\n",
              "       words_per_text  label  \n",
              "20175             666      1  \n",
              "23647             279      0  \n",
              "30464             667      0  \n",
              "49858            2603      0  \n",
              "2825              201      1  \n",
              "...               ...    ...  \n",
              "46743             111      0  \n",
              "29853              53      1  \n",
              "23620            4059      0  \n",
              "31440             596      1  \n",
              "10856             662      1  \n",
              "\n",
              "[10000 rows x 4 columns]"
            ]
          },
          "execution_count": 30,
          "metadata": {},
          "output_type": "execute_result"
        }
      ],
      "source": [
        "add_label_column(train,'source')\n",
        "add_label_column(val,'source')\n",
        "add_label_column(test,'source')"
      ]
    },
    {
      "cell_type": "code",
      "execution_count": null,
      "id": "b33b98e5-0903-4873-bb90-6aa74a1137f4",
      "metadata": {
        "id": "b33b98e5-0903-4873-bb90-6aa74a1137f4",
        "outputId": "1e4d8596-d633-4af0-b307-e475912e8813"
      },
      "outputs": [
        {
          "data": {
            "text/html": [
              "<div>\n",
              "<style scoped>\n",
              "    .dataframe tbody tr th:only-of-type {\n",
              "        vertical-align: middle;\n",
              "    }\n",
              "\n",
              "    .dataframe tbody tr th {\n",
              "        vertical-align: top;\n",
              "    }\n",
              "\n",
              "    .dataframe thead th {\n",
              "        text-align: right;\n",
              "    }\n",
              "</style>\n",
              "<table border=\"1\" class=\"dataframe\">\n",
              "  <thead>\n",
              "    <tr style=\"text-align: right;\">\n",
              "      <th></th>\n",
              "      <th>text</th>\n",
              "      <th>source</th>\n",
              "      <th>words_per_text</th>\n",
              "      <th>label</th>\n",
              "    </tr>\n",
              "  </thead>\n",
              "  <tbody>\n",
              "    <tr>\n",
              "      <th>22822</th>\n",
              "      <td>Dear coffee..... How I love you so, every day ...</td>\n",
              "      <td>Human</td>\n",
              "      <td>146</td>\n",
              "      <td>0</td>\n",
              "    </tr>\n",
              "    <tr>\n",
              "      <th>45560</th>\n",
              "      <td>It's Persian for \"land.\" Hence, \"Land of the A...</td>\n",
              "      <td>LLM</td>\n",
              "      <td>70</td>\n",
              "      <td>1</td>\n",
              "    </tr>\n",
              "    <tr>\n",
              "      <th>27615</th>\n",
              "      <td>The place stinks of smoke like when it was the...</td>\n",
              "      <td>LLM</td>\n",
              "      <td>118</td>\n",
              "      <td>1</td>\n",
              "    </tr>\n",
              "    <tr>\n",
              "      <th>5173</th>\n",
              "      <td>The old rusted car sat in the field, overgrow...</td>\n",
              "      <td>LLM</td>\n",
              "      <td>404</td>\n",
              "      <td>1</td>\n",
              "    </tr>\n",
              "    <tr>\n",
              "      <th>18100</th>\n",
              "      <td>Receives Major Update In a major update for Fa...</td>\n",
              "      <td>LLM</td>\n",
              "      <td>90</td>\n",
              "      <td>1</td>\n",
              "    </tr>\n",
              "  </tbody>\n",
              "</table>\n",
              "</div>"
            ],
            "text/plain": [
              "                                                    text source  \\\n",
              "22822  Dear coffee..... How I love you so, every day ...  Human   \n",
              "45560  It's Persian for \"land.\" Hence, \"Land of the A...    LLM   \n",
              "27615  The place stinks of smoke like when it was the...    LLM   \n",
              "5173    The old rusted car sat in the field, overgrow...    LLM   \n",
              "18100  Receives Major Update In a major update for Fa...    LLM   \n",
              "\n",
              "       words_per_text  label  \n",
              "22822             146      0  \n",
              "45560              70      1  \n",
              "27615             118      1  \n",
              "5173              404      1  \n",
              "18100              90      1  "
            ]
          },
          "execution_count": 31,
          "metadata": {},
          "output_type": "execute_result"
        }
      ],
      "source": [
        "\n",
        "train.head()"
      ]
    },
    {
      "cell_type": "code",
      "execution_count": null,
      "id": "9523b259-e6a6-4301-8ab3-b0ab554b7887",
      "metadata": {
        "id": "9523b259-e6a6-4301-8ab3-b0ab554b7887"
      },
      "outputs": [],
      "source": [
        "from datasets import Dataset,DatasetDict\n",
        "dataset=DatasetDict(\n",
        "    {\n",
        "    'train':Dataset.from_pandas(train,preserve_index=False),\n",
        "    'val':Dataset.from_pandas(val,preserve_index=False),\n",
        "    'test':Dataset.from_pandas(test,preserve_index=False)\n",
        "    }\n",
        ")"
      ]
    },
    {
      "cell_type": "code",
      "execution_count": null,
      "id": "ef4964a2-98c3-4731-bc3c-66bbd5c82aee",
      "metadata": {
        "id": "ef4964a2-98c3-4731-bc3c-66bbd5c82aee",
        "outputId": "33edccc4-58a8-4c84-d4b8-a60c8bbac52a"
      },
      "outputs": [
        {
          "data": {
            "text/plain": [
              "DatasetDict({\n",
              "    train: Dataset({\n",
              "        features: ['text', 'source', 'words_per_text', 'label'],\n",
              "        num_rows: 80000\n",
              "    })\n",
              "    val: Dataset({\n",
              "        features: ['text', 'source', 'words_per_text', 'label'],\n",
              "        num_rows: 10000\n",
              "    })\n",
              "    test: Dataset({\n",
              "        features: ['text', 'source', 'words_per_text', 'label'],\n",
              "        num_rows: 10000\n",
              "    })\n",
              "})"
            ]
          },
          "execution_count": 33,
          "metadata": {},
          "output_type": "execute_result"
        }
      ],
      "source": [
        "dataset"
      ]
    },
    {
      "cell_type": "code",
      "execution_count": null,
      "id": "85188b76-7de3-4913-9b59-c22d8c57913b",
      "metadata": {
        "id": "85188b76-7de3-4913-9b59-c22d8c57913b"
      },
      "outputs": [],
      "source": [
        "def tokenize(batch):\n",
        "  return tokenizer(batch['text'],padding=True,truncation=True)\n",
        ""
      ]
    },
    {
      "cell_type": "code",
      "execution_count": null,
      "id": "65185cf8-2c2c-44ba-8aad-2d2c6662857b",
      "metadata": {
        "id": "65185cf8-2c2c-44ba-8aad-2d2c6662857b",
        "outputId": "27f9204f-8ff2-420d-f5ee-5b5bd5b69665",
        "colab": {
          "referenced_widgets": [
            "94bba64149ab4ab39ccf68d932653590",
            "f7aebca2a2e843ab88cb4c96f3488cab",
            "71a1be9426eb464c8d4ac64df5ebfb26"
          ]
        }
      },
      "outputs": [
        {
          "data": {
            "application/vnd.jupyter.widget-view+json": {
              "model_id": "94bba64149ab4ab39ccf68d932653590",
              "version_major": 2,
              "version_minor": 0
            },
            "text/plain": [
              "Map:   0%|          | 0/80000 [00:00<?, ? examples/s]"
            ]
          },
          "metadata": {},
          "output_type": "display_data"
        },
        {
          "data": {
            "application/vnd.jupyter.widget-view+json": {
              "model_id": "f7aebca2a2e843ab88cb4c96f3488cab",
              "version_major": 2,
              "version_minor": 0
            },
            "text/plain": [
              "Map:   0%|          | 0/10000 [00:00<?, ? examples/s]"
            ]
          },
          "metadata": {},
          "output_type": "display_data"
        },
        {
          "data": {
            "application/vnd.jupyter.widget-view+json": {
              "model_id": "71a1be9426eb464c8d4ac64df5ebfb26",
              "version_major": 2,
              "version_minor": 0
            },
            "text/plain": [
              "Map:   0%|          | 0/10000 [00:00<?, ? examples/s]"
            ]
          },
          "metadata": {},
          "output_type": "display_data"
        }
      ],
      "source": [
        "text_encoded=dataset.map(tokenize,batched=True,batch_size=64)"
      ]
    },
    {
      "cell_type": "code",
      "execution_count": null,
      "id": "74aa3b03-b112-424f-a156-0c2e22d22a2e",
      "metadata": {
        "id": "74aa3b03-b112-424f-a156-0c2e22d22a2e",
        "outputId": "ae7fcd1a-4cf5-4215-be94-b3b907d4dd46"
      },
      "outputs": [
        {
          "data": {
            "text/plain": [
              "DatasetDict({\n",
              "    train: Dataset({\n",
              "        features: ['text', 'source', 'words_per_text', 'label', 'input_ids', 'attention_mask'],\n",
              "        num_rows: 80000\n",
              "    })\n",
              "    val: Dataset({\n",
              "        features: ['text', 'source', 'words_per_text', 'label', 'input_ids', 'attention_mask'],\n",
              "        num_rows: 10000\n",
              "    })\n",
              "    test: Dataset({\n",
              "        features: ['text', 'source', 'words_per_text', 'label', 'input_ids', 'attention_mask'],\n",
              "        num_rows: 10000\n",
              "    })\n",
              "})"
            ]
          },
          "execution_count": 36,
          "metadata": {},
          "output_type": "execute_result"
        }
      ],
      "source": [
        "text_encoded"
      ]
    },
    {
      "cell_type": "code",
      "execution_count": null,
      "id": "3c12c9f0-2db8-4416-83d3-6bf424543d09",
      "metadata": {
        "id": "3c12c9f0-2db8-4416-83d3-6bf424543d09"
      },
      "outputs": [],
      "source": [
        "label2id={'Human':0,'LLM':1}\n",
        "id2label={0:'Human',1:'LLM'}"
      ]
    },
    {
      "cell_type": "code",
      "execution_count": null,
      "id": "b6d10293-a397-468e-ba46-85843ce2dd23",
      "metadata": {
        "id": "b6d10293-a397-468e-ba46-85843ce2dd23",
        "outputId": "2d9f5f30-e592-4ccb-91af-dfee270c6438"
      },
      "outputs": [
        {
          "name": "stderr",
          "output_type": "stream",
          "text": [
            "Some weights of RobertaModel were not initialized from the model checkpoint at roberta-base and are newly initialized: ['roberta.pooler.dense.bias', 'roberta.pooler.dense.weight']\n",
            "You should probably TRAIN this model on a down-stream task to be able to use it for predictions and inference.\n"
          ]
        }
      ],
      "source": [
        "from transformers import AutoModel\n",
        "import torch\n",
        "model=AutoModel.from_pretrained(model_name)"
      ]
    },
    {
      "cell_type": "code",
      "execution_count": null,
      "id": "1be31659-521b-4eca-8e4a-c23ea442ae1c",
      "metadata": {
        "id": "1be31659-521b-4eca-8e4a-c23ea442ae1c",
        "outputId": "4f422655-b83d-4fb0-ccab-c3cc7e249086"
      },
      "outputs": [
        {
          "data": {
            "text/plain": [
              "RobertaConfig {\n",
              "  \"_name_or_path\": \"roberta-base\",\n",
              "  \"architectures\": [\n",
              "    \"RobertaForMaskedLM\"\n",
              "  ],\n",
              "  \"attention_probs_dropout_prob\": 0.1,\n",
              "  \"bos_token_id\": 0,\n",
              "  \"classifier_dropout\": null,\n",
              "  \"eos_token_id\": 2,\n",
              "  \"hidden_act\": \"gelu\",\n",
              "  \"hidden_dropout_prob\": 0.1,\n",
              "  \"hidden_size\": 768,\n",
              "  \"initializer_range\": 0.02,\n",
              "  \"intermediate_size\": 3072,\n",
              "  \"layer_norm_eps\": 1e-05,\n",
              "  \"max_position_embeddings\": 514,\n",
              "  \"model_type\": \"roberta\",\n",
              "  \"num_attention_heads\": 12,\n",
              "  \"num_hidden_layers\": 12,\n",
              "  \"pad_token_id\": 1,\n",
              "  \"position_embedding_type\": \"absolute\",\n",
              "  \"transformers_version\": \"4.45.1\",\n",
              "  \"type_vocab_size\": 1,\n",
              "  \"use_cache\": true,\n",
              "  \"vocab_size\": 50265\n",
              "}"
            ]
          },
          "execution_count": 39,
          "metadata": {},
          "output_type": "execute_result"
        }
      ],
      "source": [
        "\n",
        "model.config"
      ]
    },
    {
      "cell_type": "code",
      "execution_count": null,
      "id": "4ad10473-a508-4270-bd62-7f1427c58a11",
      "metadata": {
        "id": "4ad10473-a508-4270-bd62-7f1427c58a11",
        "outputId": "749702fa-fedc-43f9-a116-a8b170ccb761"
      },
      "outputs": [
        {
          "name": "stderr",
          "output_type": "stream",
          "text": [
            "Some weights of RobertaForSequenceClassification were not initialized from the model checkpoint at roberta-base and are newly initialized: ['classifier.dense.bias', 'classifier.dense.weight', 'classifier.out_proj.bias', 'classifier.out_proj.weight']\n",
            "You should probably TRAIN this model on a down-stream task to be able to use it for predictions and inference.\n"
          ]
        }
      ],
      "source": [
        "from transformers import AutoModelForSequenceClassification,AutoConfig\n",
        "Num_labels=len(label2id)\n",
        "device=torch.device('cuda' if torch.cuda.is_available() else 'cpu')\n",
        "config=AutoConfig.from_pretrained(model_name,num_labels=Num_labels,id2label=id2label,label2id=label2id)\n",
        "\n",
        "model=AutoModelForSequenceClassification.from_pretrained(model_name,config=config).to(device)"
      ]
    },
    {
      "cell_type": "code",
      "execution_count": null,
      "id": "a12c8636-4117-47b1-b6fa-4434f00c6ba0",
      "metadata": {
        "id": "a12c8636-4117-47b1-b6fa-4434f00c6ba0",
        "outputId": "6c4d0fcb-91bb-4d99-f34e-d8df9b5781b3"
      },
      "outputs": [
        {
          "data": {
            "text/plain": [
              "{'Human': 0, 'LLM': 1}"
            ]
          },
          "execution_count": 41,
          "metadata": {},
          "output_type": "execute_result"
        }
      ],
      "source": [
        "model.config.label2id"
      ]
    },
    {
      "cell_type": "code",
      "execution_count": null,
      "id": "b7d9f170-dfd0-4830-9eb1-255e02d81a1c",
      "metadata": {
        "id": "b7d9f170-dfd0-4830-9eb1-255e02d81a1c",
        "outputId": "0b5a33b9-d0c2-4665-bb5c-fd9069b7dcf0"
      },
      "outputs": [
        {
          "data": {
            "text/plain": [
              "RobertaConfig {\n",
              "  \"_name_or_path\": \"roberta-base\",\n",
              "  \"architectures\": [\n",
              "    \"RobertaForMaskedLM\"\n",
              "  ],\n",
              "  \"attention_probs_dropout_prob\": 0.1,\n",
              "  \"bos_token_id\": 0,\n",
              "  \"classifier_dropout\": null,\n",
              "  \"eos_token_id\": 2,\n",
              "  \"hidden_act\": \"gelu\",\n",
              "  \"hidden_dropout_prob\": 0.1,\n",
              "  \"hidden_size\": 768,\n",
              "  \"id2label\": {\n",
              "    \"0\": \"Human\",\n",
              "    \"1\": \"LLM\"\n",
              "  },\n",
              "  \"initializer_range\": 0.02,\n",
              "  \"intermediate_size\": 3072,\n",
              "  \"label2id\": {\n",
              "    \"Human\": 0,\n",
              "    \"LLM\": 1\n",
              "  },\n",
              "  \"layer_norm_eps\": 1e-05,\n",
              "  \"max_position_embeddings\": 514,\n",
              "  \"model_type\": \"roberta\",\n",
              "  \"num_attention_heads\": 12,\n",
              "  \"num_hidden_layers\": 12,\n",
              "  \"pad_token_id\": 1,\n",
              "  \"position_embedding_type\": \"absolute\",\n",
              "  \"transformers_version\": \"4.45.1\",\n",
              "  \"type_vocab_size\": 1,\n",
              "  \"use_cache\": true,\n",
              "  \"vocab_size\": 50265\n",
              "}"
            ]
          },
          "execution_count": 42,
          "metadata": {},
          "output_type": "execute_result"
        }
      ],
      "source": [
        "model.config"
      ]
    },
    {
      "cell_type": "code",
      "execution_count": null,
      "id": "6c00cede-2363-4b98-b739-e40b446b1a81",
      "metadata": {
        "id": "6c00cede-2363-4b98-b739-e40b446b1a81",
        "outputId": "1e0e53f9-9a49-4dd9-b4a6-719759a7ef0e"
      },
      "outputs": [
        {
          "name": "stderr",
          "output_type": "stream",
          "text": [
            "/home/zeus/miniconda3/envs/cloudspace/lib/python3.10/site-packages/transformers/training_args.py:1545: FutureWarning: `evaluation_strategy` is deprecated and will be removed in version 4.46 of 🤗 Transformers. Use `eval_strategy` instead\n",
            "  warnings.warn(\n"
          ]
        }
      ],
      "source": [
        "from transformers import TrainingArguments\n",
        "batch_size=64\n",
        "num_epochs=4\n",
        "lr=5e-5\n",
        "training_dir='robert_train_dir'\n",
        "training_args=TrainingArguments(\n",
        "    output_dir=training_dir,\n",
        "    learning_rate=lr,\n",
        "    per_device_train_batch_size=batch_size,\n",
        "    per_device_eval_batch_size=batch_size,\n",
        "    num_train_epochs=num_epochs,\n",
        "    overwrite_output_dir=True,\n",
        "    weight_decay=0.1,\n",
        "    evaluation_strategy='epoch',\n",
        "\n",
        "\n",
        ")\n",
        ""
      ]
    },
    {
      "cell_type": "code",
      "execution_count": null,
      "id": "2238181c-c456-425d-9e4e-12808901d061",
      "metadata": {
        "id": "2238181c-c456-425d-9e4e-12808901d061",
        "outputId": "76cbd878-6320-4dce-ed3f-c64c5d22f20a"
      },
      "outputs": [
        {
          "name": "stderr",
          "output_type": "stream",
          "text": [
            "huggingface/tokenizers: The current process just got forked, after parallelism has already been used. Disabling parallelism to avoid deadlocks...\n",
            "To disable this warning, you can either:\n",
            "\t- Avoid using `tokenizers` before the fork if possible\n",
            "\t- Explicitly set the environment variable TOKENIZERS_PARALLELISM=(true | false)\n"
          ]
        },
        {
          "name": "stdout",
          "output_type": "stream",
          "text": [
            "Requirement already satisfied: evaluate in /system/conda/miniconda3/envs/cloudspace/lib/python3.10/site-packages (0.4.3)\n",
            "Requirement already satisfied: datasets>=2.0.0 in /system/conda/miniconda3/envs/cloudspace/lib/python3.10/site-packages (from evaluate) (3.0.1)\n",
            "Requirement already satisfied: numpy>=1.17 in /system/conda/miniconda3/envs/cloudspace/lib/python3.10/site-packages (from evaluate) (1.26.4)\n",
            "Requirement already satisfied: dill in /system/conda/miniconda3/envs/cloudspace/lib/python3.10/site-packages (from evaluate) (0.3.8)\n",
            "Requirement already satisfied: pandas in /system/conda/miniconda3/envs/cloudspace/lib/python3.10/site-packages (from evaluate) (2.1.4)\n",
            "Requirement already satisfied: requests>=2.19.0 in /system/conda/miniconda3/envs/cloudspace/lib/python3.10/site-packages (from evaluate) (2.32.3)\n",
            "Requirement already satisfied: tqdm>=4.62.1 in /system/conda/miniconda3/envs/cloudspace/lib/python3.10/site-packages (from evaluate) (4.66.5)\n",
            "Requirement already satisfied: xxhash in /system/conda/miniconda3/envs/cloudspace/lib/python3.10/site-packages (from evaluate) (3.5.0)\n",
            "Requirement already satisfied: multiprocess in /system/conda/miniconda3/envs/cloudspace/lib/python3.10/site-packages (from evaluate) (0.70.16)\n",
            "Requirement already satisfied: fsspec>=2021.05.0 in /system/conda/miniconda3/envs/cloudspace/lib/python3.10/site-packages (from fsspec[http]>=2021.05.0->evaluate) (2024.6.1)\n",
            "Requirement already satisfied: huggingface-hub>=0.7.0 in /system/conda/miniconda3/envs/cloudspace/lib/python3.10/site-packages (from evaluate) (0.25.1)\n",
            "Requirement already satisfied: packaging in /system/conda/miniconda3/envs/cloudspace/lib/python3.10/site-packages (from evaluate) (24.1)\n",
            "Requirement already satisfied: filelock in /system/conda/miniconda3/envs/cloudspace/lib/python3.10/site-packages (from datasets>=2.0.0->evaluate) (3.16.1)\n",
            "Requirement already satisfied: pyarrow>=15.0.0 in /system/conda/miniconda3/envs/cloudspace/lib/python3.10/site-packages (from datasets>=2.0.0->evaluate) (17.0.0)\n",
            "Requirement already satisfied: aiohttp in /system/conda/miniconda3/envs/cloudspace/lib/python3.10/site-packages (from datasets>=2.0.0->evaluate) (3.10.8)\n",
            "Requirement already satisfied: pyyaml>=5.1 in /system/conda/miniconda3/envs/cloudspace/lib/python3.10/site-packages (from datasets>=2.0.0->evaluate) (6.0.2)\n",
            "Requirement already satisfied: typing-extensions>=3.7.4.3 in /system/conda/miniconda3/envs/cloudspace/lib/python3.10/site-packages (from huggingface-hub>=0.7.0->evaluate) (4.12.2)\n",
            "Requirement already satisfied: charset-normalizer<4,>=2 in /system/conda/miniconda3/envs/cloudspace/lib/python3.10/site-packages (from requests>=2.19.0->evaluate) (3.3.2)\n",
            "Requirement already satisfied: idna<4,>=2.5 in /system/conda/miniconda3/envs/cloudspace/lib/python3.10/site-packages (from requests>=2.19.0->evaluate) (3.10)\n",
            "Requirement already satisfied: urllib3<3,>=1.21.1 in /system/conda/miniconda3/envs/cloudspace/lib/python3.10/site-packages (from requests>=2.19.0->evaluate) (2.2.3)\n",
            "Requirement already satisfied: certifi>=2017.4.17 in /system/conda/miniconda3/envs/cloudspace/lib/python3.10/site-packages (from requests>=2.19.0->evaluate) (2024.8.30)\n",
            "Requirement already satisfied: python-dateutil>=2.8.2 in /system/conda/miniconda3/envs/cloudspace/lib/python3.10/site-packages (from pandas->evaluate) (2.9.0.post0)\n",
            "Requirement already satisfied: pytz>=2020.1 in /system/conda/miniconda3/envs/cloudspace/lib/python3.10/site-packages (from pandas->evaluate) (2024.2)\n",
            "Requirement already satisfied: tzdata>=2022.1 in /system/conda/miniconda3/envs/cloudspace/lib/python3.10/site-packages (from pandas->evaluate) (2024.2)\n",
            "Requirement already satisfied: aiohappyeyeballs>=2.3.0 in /system/conda/miniconda3/envs/cloudspace/lib/python3.10/site-packages (from aiohttp->datasets>=2.0.0->evaluate) (2.4.3)\n",
            "Requirement already satisfied: aiosignal>=1.1.2 in /system/conda/miniconda3/envs/cloudspace/lib/python3.10/site-packages (from aiohttp->datasets>=2.0.0->evaluate) (1.3.1)\n",
            "Requirement already satisfied: attrs>=17.3.0 in /system/conda/miniconda3/envs/cloudspace/lib/python3.10/site-packages (from aiohttp->datasets>=2.0.0->evaluate) (24.2.0)\n",
            "Requirement already satisfied: frozenlist>=1.1.1 in /system/conda/miniconda3/envs/cloudspace/lib/python3.10/site-packages (from aiohttp->datasets>=2.0.0->evaluate) (1.4.1)\n",
            "Requirement already satisfied: multidict<7.0,>=4.5 in /system/conda/miniconda3/envs/cloudspace/lib/python3.10/site-packages (from aiohttp->datasets>=2.0.0->evaluate) (6.1.0)\n",
            "Requirement already satisfied: yarl<2.0,>=1.12.0 in /system/conda/miniconda3/envs/cloudspace/lib/python3.10/site-packages (from aiohttp->datasets>=2.0.0->evaluate) (1.13.1)\n",
            "Requirement already satisfied: async-timeout<5.0,>=4.0 in /system/conda/miniconda3/envs/cloudspace/lib/python3.10/site-packages (from aiohttp->datasets>=2.0.0->evaluate) (4.0.3)\n",
            "Requirement already satisfied: six>=1.5 in /system/conda/miniconda3/envs/cloudspace/lib/python3.10/site-packages (from python-dateutil>=2.8.2->pandas->evaluate) (1.16.0)\n"
          ]
        }
      ],
      "source": [
        "!pip install evaluate"
      ]
    },
    {
      "cell_type": "code",
      "execution_count": null,
      "id": "edebbe8f-3c36-4e8b-9476-ac8877567dba",
      "metadata": {
        "id": "edebbe8f-3c36-4e8b-9476-ac8877567dba"
      },
      "outputs": [],
      "source": [
        "import evaluate\n",
        "import numpy as np\n",
        "metric=evaluate.load('accuracy')\n",
        "\n",
        "\n",
        "def compute_metrics(eval_pred):\n",
        "  logits,labels=eval_pred\n",
        "  predictions=np.argmax(logits,axis=1)\n",
        "  return metric.compute(predictions=predictions,references=labels)"
      ]
    },
    {
      "cell_type": "code",
      "execution_count": null,
      "id": "e14e74ee-4dfd-4006-8557-b130e0c22ce1",
      "metadata": {
        "id": "e14e74ee-4dfd-4006-8557-b130e0c22ce1"
      },
      "outputs": [],
      "source": [
        "from transformers import Trainer\n",
        "trainer=Trainer(model=model,\n",
        "                compute_metrics=compute_metrics,\n",
        "                args=training_args,\n",
        "                train_dataset=text_encoded['train'],\n",
        "                eval_dataset=text_encoded['val'],\n",
        "                tokenizer=tokenizer\n",
        "                )"
      ]
    },
    {
      "cell_type": "code",
      "execution_count": null,
      "id": "ff1f7828-6e7c-4ad3-a976-34c8debb014c",
      "metadata": {
        "id": "ff1f7828-6e7c-4ad3-a976-34c8debb014c",
        "outputId": "7a5a68d6-579f-44a6-e8ac-79395adff168"
      },
      "outputs": [
        {
          "data": {
            "text/plain": [
              "RobertaTokenizerFast(name_or_path='roberta-base', vocab_size=50265, model_max_length=512, is_fast=True, padding_side='right', truncation_side='right', special_tokens={'bos_token': '<s>', 'eos_token': '</s>', 'unk_token': '<unk>', 'sep_token': '</s>', 'pad_token': '<pad>', 'cls_token': '<s>', 'mask_token': '<mask>'}, clean_up_tokenization_spaces=False),  added_tokens_decoder={\n",
              "\t0: AddedToken(\"<s>\", rstrip=False, lstrip=False, single_word=False, normalized=True, special=True),\n",
              "\t1: AddedToken(\"<pad>\", rstrip=False, lstrip=False, single_word=False, normalized=True, special=True),\n",
              "\t2: AddedToken(\"</s>\", rstrip=False, lstrip=False, single_word=False, normalized=True, special=True),\n",
              "\t3: AddedToken(\"<unk>\", rstrip=False, lstrip=False, single_word=False, normalized=True, special=True),\n",
              "\t50264: AddedToken(\"<mask>\", rstrip=False, lstrip=True, single_word=False, normalized=False, special=True),\n",
              "}"
            ]
          },
          "execution_count": 47,
          "metadata": {},
          "output_type": "execute_result"
        }
      ],
      "source": [
        "tokenizer"
      ]
    },
    {
      "cell_type": "code",
      "execution_count": null,
      "id": "74665263-6d38-489f-822d-fcde36f125b7",
      "metadata": {
        "id": "74665263-6d38-489f-822d-fcde36f125b7",
        "outputId": "defb036b-ca91-4d74-f94b-dc5eaf839d96"
      },
      "outputs": [
        {
          "data": {
            "text/html": [
              "\n",
              "    <div>\n",
              "      \n",
              "      <progress value='5000' max='5000' style='width:300px; height:20px; vertical-align: middle;'></progress>\n",
              "      [5000/5000 3:33:19, Epoch 4/4]\n",
              "    </div>\n",
              "    <table border=\"1\" class=\"dataframe\">\n",
              "  <thead>\n",
              " <tr style=\"text-align: left;\">\n",
              "      <th>Epoch</th>\n",
              "      <th>Training Loss</th>\n",
              "      <th>Validation Loss</th>\n",
              "      <th>Accuracy</th>\n",
              "    </tr>\n",
              "  </thead>\n",
              "  <tbody>\n",
              "    <tr>\n",
              "      <td>1</td>\n",
              "      <td>0.130100</td>\n",
              "      <td>0.122356</td>\n",
              "      <td>0.957100</td>\n",
              "    </tr>\n",
              "    <tr>\n",
              "      <td>2</td>\n",
              "      <td>0.068700</td>\n",
              "      <td>0.313371</td>\n",
              "      <td>0.926000</td>\n",
              "    </tr>\n",
              "    <tr>\n",
              "      <td>3</td>\n",
              "      <td>0.034100</td>\n",
              "      <td>0.268399</td>\n",
              "      <td>0.941700</td>\n",
              "    </tr>\n",
              "    <tr>\n",
              "      <td>4</td>\n",
              "      <td>0.012800</td>\n",
              "      <td>0.294890</td>\n",
              "      <td>0.948900</td>\n",
              "    </tr>\n",
              "  </tbody>\n",
              "</table><p>"
            ],
            "text/plain": [
              "<IPython.core.display.HTML object>"
            ]
          },
          "metadata": {},
          "output_type": "display_data"
        },
        {
          "data": {
            "text/plain": [
              "TrainOutput(global_step=5000, training_loss=0.07142663631439208, metrics={'train_runtime': 12801.8686, 'train_samples_per_second': 24.996, 'train_steps_per_second': 0.391, 'total_flos': 8.41955377152e+16, 'train_loss': 0.07142663631439208, 'epoch': 4.0})"
            ]
          },
          "execution_count": 48,
          "metadata": {},
          "output_type": "execute_result"
        }
      ],
      "source": [
        "\n",
        "trainer.train()"
      ]
    },
    {
      "cell_type": "code",
      "execution_count": null,
      "id": "f7cc53ac-ff9a-4504-9089-bd849c1c6131",
      "metadata": {
        "id": "f7cc53ac-ff9a-4504-9089-bd849c1c6131",
        "outputId": "892cd988-dd21-497a-9571-5e10adc7b211"
      },
      "outputs": [
        {
          "data": {
            "text/html": [],
            "text/plain": [
              "<IPython.core.display.HTML object>"
            ]
          },
          "metadata": {},
          "output_type": "display_data"
        }
      ],
      "source": [
        "preds_output=trainer.predict(text_encoded['test'])"
      ]
    },
    {
      "cell_type": "code",
      "execution_count": null,
      "id": "c71b6376-e93e-46b5-9f6d-c67d14cd464f",
      "metadata": {
        "id": "c71b6376-e93e-46b5-9f6d-c67d14cd464f",
        "outputId": "60b362c7-04ab-4c65-a1d9-f0252d0528b7"
      },
      "outputs": [
        {
          "data": {
            "text/plain": [
              "{'test_loss': 0.31975865364074707,\n",
              " 'test_accuracy': 0.9463,\n",
              " 'test_runtime': 135.313,\n",
              " 'test_samples_per_second': 73.903,\n",
              " 'test_steps_per_second': 1.16}"
            ]
          },
          "execution_count": 51,
          "metadata": {},
          "output_type": "execute_result"
        }
      ],
      "source": [
        "preds_output.metrics"
      ]
    },
    {
      "cell_type": "code",
      "execution_count": null,
      "id": "27404d2d-2b32-4d09-9c87-806851eec52c",
      "metadata": {
        "id": "27404d2d-2b32-4d09-9c87-806851eec52c"
      },
      "outputs": [],
      "source": [
        "y_pred=np.argmax(preds_output.predictions,axis=1)\n",
        "y_test=text_encoded['test'][:]['label']"
      ]
    },
    {
      "cell_type": "code",
      "execution_count": null,
      "id": "c14ca0c6-42c2-4dda-a997-9f330070475d",
      "metadata": {
        "id": "c14ca0c6-42c2-4dda-a997-9f330070475d",
        "outputId": "79dace3c-79ed-4542-8d6b-609bf6ceabc4"
      },
      "outputs": [
        {
          "name": "stdout",
          "output_type": "stream",
          "text": [
            "              precision    recall  f1-score   support\n",
            "\n",
            "           0       0.99      0.90      0.94      5059\n",
            "           1       0.91      0.99      0.95      4941\n",
            "\n",
            "    accuracy                           0.95     10000\n",
            "   macro avg       0.95      0.95      0.95     10000\n",
            "weighted avg       0.95      0.95      0.95     10000\n",
            "\n"
          ]
        }
      ],
      "source": [
        "from sklearn.metrics import classification_report\n",
        "print(classification_report(y_test,y_pred))"
      ]
    },
    {
      "cell_type": "code",
      "execution_count": null,
      "id": "c8c4e4b0-1dd3-4379-90eb-55f723b7915a",
      "metadata": {
        "id": "c8c4e4b0-1dd3-4379-90eb-55f723b7915a"
      },
      "outputs": [],
      "source": [
        "import seaborn as sns\n",
        "from sklearn.metrics import confusion_matrix\n",
        "import matplotlib.pyplot as plt"
      ]
    },
    {
      "cell_type": "code",
      "execution_count": null,
      "id": "bbd42a5f-557d-4c31-92cc-c531abba463f",
      "metadata": {
        "id": "bbd42a5f-557d-4c31-92cc-c531abba463f"
      },
      "outputs": [],
      "source": [
        "cm=confusion_matrix(y_test,y_pred)"
      ]
    },
    {
      "cell_type": "code",
      "execution_count": null,
      "id": "acc145f9-b567-4bc2-a8cf-f7dc0ddae579",
      "metadata": {
        "id": "acc145f9-b567-4bc2-a8cf-f7dc0ddae579",
        "outputId": "3eae317d-c577-4007-cb84-5d263fca109f"
      },
      "outputs": [
        {
          "data": {
            "text/plain": [
              "<Axes: >"
            ]
          },
          "execution_count": 58,
          "metadata": {},
          "output_type": "execute_result"
        },
        {
          "data": {
            "image/png": "[encoded data removed]",
            "text/plain": [
              "<Figure size 500x500 with 1 Axes>"
            ]
          },
          "metadata": {},
          "output_type": "display_data"
        }
      ],
      "source": [
        "plt.figure(figsize=(5,5))\n",
        "sns.heatmap(cm,annot=True,xticklabels=label2id.keys(),yticklabels=label2id.keys(),fmt='d',cbar=False,cmap='Reds')\n",
        "\n"
      ]
    },
    {
      "cell_type": "code",
      "execution_count": null,
      "id": "a4bff2dd-1019-450f-bf64-ecb898b29f7e",
      "metadata": {
        "id": "a4bff2dd-1019-450f-bf64-ecb898b29f7e"
      },
      "outputs": [],
      "source": [
        "LLM_text='''\n",
        "The explosion of visual data on the internet is driven by the proliferation of sensors, such as smartphones and cameras,\n",
        "leading to more sensors than people on Earth. This vast amount of pixel data is often referred to as the \"dark matter of\n",
        "the internet\" because it constitutes a significant portion of online content yet is difficult to analyze and understand.\n",
        "For instance, over 150 hours of video are uploaded to YouTube every minute, highlighting the challenges in harnessing this\n",
        "information. The complexity of visual data makes it one of the hardest types to work with, necessitating advanced techniques\n",
        "for effective analysis.\n",
        "'''\n",
        "\n",
        "human_text='''\n",
        "There is more seats on the side for people walking in late.\n",
        "So just to make sure you are in CS231n The deep learning on\n",
        "neural network class for visual recognition Anybody in the wrong\n",
        "class? Okay, good. Alright, so welcome and happy new year, happy\n",
        "first day of the winter break the second offering of this class\n",
        "when we have literally doubled our enrollment and from a hundred\n",
        "eighty people last time we offered to about 350 of yo\n",
        "u signed up just a couple of words to do to make us all legally covered we are\n",
        "'''\n",
        "human_text2='''\n",
        "\n",
        "is because of the explosion of both the\n",
        "internet as a carrier of data as well as\n",
        "sensors we have more sensors than the number\n",
        "of people on earth these days every one of you\n",
        "is carrying some kind of smartphones digital\n",
        "cameras and and and and you know cars are running\n",
        "on the street with cameras so so the sensors have\n",
        "really enabled the explosion of visual data in the\n",
        "on the internet but visual data or pixel data is\n",
        "also the hardest data to harness so if you have heard my previous\n",
        "talks and some other um talks by computer vision professors\n",
        "'''\n",
        "texts=[human_text,human_text2,LLM_text]"
      ]
    },
    {
      "cell_type": "code",
      "execution_count": null,
      "id": "fd44ad49-de70-4bc4-871b-a99749f32b14",
      "metadata": {
        "id": "fd44ad49-de70-4bc4-871b-a99749f32b14",
        "outputId": "ad60a379-44ff-4ccd-abd8-d46e756dbc24"
      },
      "outputs": [
        {
          "name": "stdout",
          "output_type": "stream",
          "text": [
            "0 Human\n",
            "0 Human\n",
            "1 LLM\n"
          ]
        }
      ],
      "source": [
        "\n",
        "for text in texts:\n",
        "    _text = tokenizer(text, return_tensors='pt').to(device)\n",
        "    with torch.no_grad():\n",
        "        output = model(**_text)\n",
        "    logits = output.logits\n",
        "    pred = torch.argmax(logits, dim=1)\n",
        "    print(pred.item(), id2label[pred.item()])"
      ]
    },
    {
      "cell_type": "code",
      "execution_count": null,
      "id": "e6824b34-a2ad-4dc0-a994-388ecb6fc64c",
      "metadata": {
        "id": "e6824b34-a2ad-4dc0-a994-388ecb6fc64c"
      },
      "outputs": [],
      "source": []
    }
  ],
  "metadata": {
    "kernelspec": {
      "display_name": "Python 3",
      "language": "python",
      "name": "python3"
    },
    "language_info": {
      "codemirror_mode": {
        "name": "ipython",
        "version": 3
      },
      "file_extension": ".py",
      "mimetype": "text/x-python",
      "name": "python",
      "nbconvert_exporter": "python",
      "pygments_lexer": "ipython3",
      "version": "3.10.10"
    },
    "colab": {
      "provenance": [],
      "include_colab_link": true
    }
  },
  "nbformat": 4,
  "nbformat_minor": 5
}